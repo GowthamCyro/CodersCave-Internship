{
 "cells": [
  {
   "cell_type": "markdown",
   "id": "f42f7c5d",
   "metadata": {
    "papermill": {
     "duration": 0.010549,
     "end_time": "2023-03-20T01:36:32.855689",
     "exception": false,
     "start_time": "2023-03-20T01:36:32.845140",
     "status": "completed"
    },
    "tags": []
   },
   "source": [
    "**Spam Email Detection using Machine Learning**"
   ]
  },
  {
   "cell_type": "code",
   "execution_count": 1,
   "id": "364f032a",
   "metadata": {
    "_cell_guid": "b1076dfc-b9ad-4769-8c92-a6c4dae69d19",
    "_uuid": "8f2839f25d086af736a60e9eeb907d3b93b6e0e5",
    "execution": {
     "iopub.execute_input": "2023-03-20T01:36:32.876892Z",
     "iopub.status.busy": "2023-03-20T01:36:32.875917Z",
     "iopub.status.idle": "2023-03-20T01:36:34.095230Z",
     "shell.execute_reply": "2023-03-20T01:36:34.094127Z"
    },
    "papermill": {
     "duration": 1.233845,
     "end_time": "2023-03-20T01:36:34.098700",
     "exception": false,
     "start_time": "2023-03-20T01:36:32.864855",
     "status": "completed"
    },
    "tags": []
   },
   "outputs": [],
   "source": [
    "import pandas as pd\n",
    "import numpy as np\n",
    "from sklearn.model_selection import train_test_split\n",
    "from sklearn.feature_extraction.text import TfidfVectorizer\n",
    "from sklearn.linear_model import LogisticRegression\n",
    "from sklearn.metrics import accuracy_score"
   ]
  },
  {
   "cell_type": "code",
   "execution_count": 2,
   "id": "05cf033e",
   "metadata": {
    "execution": {
     "iopub.execute_input": "2023-03-20T01:36:34.119137Z",
     "iopub.status.busy": "2023-03-20T01:36:34.118681Z",
     "iopub.status.idle": "2023-03-20T01:36:34.268171Z",
     "shell.execute_reply": "2023-03-20T01:36:34.266842Z"
    },
    "papermill": {
     "duration": 0.164143,
     "end_time": "2023-03-20T01:36:34.272003",
     "exception": false,
     "start_time": "2023-03-20T01:36:34.107860",
     "status": "completed"
    },
    "tags": []
   },
   "outputs": [],
   "source": [
    "data = pd.read_csv('/kaggle/input/spam-mails-dataset/spam_ham_dataset.csv')"
   ]
  },
  {
   "cell_type": "code",
   "execution_count": 3,
   "id": "f6a99c55",
   "metadata": {
    "execution": {
     "iopub.execute_input": "2023-03-20T01:36:34.295715Z",
     "iopub.status.busy": "2023-03-20T01:36:34.293067Z",
     "iopub.status.idle": "2023-03-20T01:36:34.326975Z",
     "shell.execute_reply": "2023-03-20T01:36:34.325505Z"
    },
    "papermill": {
     "duration": 0.049788,
     "end_time": "2023-03-20T01:36:34.331174",
     "exception": false,
     "start_time": "2023-03-20T01:36:34.281386",
     "status": "completed"
    },
    "tags": []
   },
   "outputs": [
    {
     "data": {
      "text/html": [
       "<div>\n",
       "<style scoped>\n",
       "    .dataframe tbody tr th:only-of-type {\n",
       "        vertical-align: middle;\n",
       "    }\n",
       "\n",
       "    .dataframe tbody tr th {\n",
       "        vertical-align: top;\n",
       "    }\n",
       "\n",
       "    .dataframe thead th {\n",
       "        text-align: right;\n",
       "    }\n",
       "</style>\n",
       "<table border=\"1\" class=\"dataframe\">\n",
       "  <thead>\n",
       "    <tr style=\"text-align: right;\">\n",
       "      <th></th>\n",
       "      <th>Unnamed: 0</th>\n",
       "      <th>label</th>\n",
       "      <th>text</th>\n",
       "      <th>label_num</th>\n",
       "    </tr>\n",
       "  </thead>\n",
       "  <tbody>\n",
       "    <tr>\n",
       "      <th>0</th>\n",
       "      <td>605</td>\n",
       "      <td>ham</td>\n",
       "      <td>Subject: enron methanol ; meter # : 988291\\r\\n...</td>\n",
       "      <td>0</td>\n",
       "    </tr>\n",
       "    <tr>\n",
       "      <th>1</th>\n",
       "      <td>2349</td>\n",
       "      <td>ham</td>\n",
       "      <td>Subject: hpl nom for january 9 , 2001\\r\\n( see...</td>\n",
       "      <td>0</td>\n",
       "    </tr>\n",
       "    <tr>\n",
       "      <th>2</th>\n",
       "      <td>3624</td>\n",
       "      <td>ham</td>\n",
       "      <td>Subject: neon retreat\\r\\nho ho ho , we ' re ar...</td>\n",
       "      <td>0</td>\n",
       "    </tr>\n",
       "    <tr>\n",
       "      <th>3</th>\n",
       "      <td>4685</td>\n",
       "      <td>spam</td>\n",
       "      <td>Subject: photoshop , windows , office . cheap ...</td>\n",
       "      <td>1</td>\n",
       "    </tr>\n",
       "    <tr>\n",
       "      <th>4</th>\n",
       "      <td>2030</td>\n",
       "      <td>ham</td>\n",
       "      <td>Subject: re : indian springs\\r\\nthis deal is t...</td>\n",
       "      <td>0</td>\n",
       "    </tr>\n",
       "  </tbody>\n",
       "</table>\n",
       "</div>"
      ],
      "text/plain": [
       "   Unnamed: 0 label                                               text  \\\n",
       "0         605   ham  Subject: enron methanol ; meter # : 988291\\r\\n...   \n",
       "1        2349   ham  Subject: hpl nom for january 9 , 2001\\r\\n( see...   \n",
       "2        3624   ham  Subject: neon retreat\\r\\nho ho ho , we ' re ar...   \n",
       "3        4685  spam  Subject: photoshop , windows , office . cheap ...   \n",
       "4        2030   ham  Subject: re : indian springs\\r\\nthis deal is t...   \n",
       "\n",
       "   label_num  \n",
       "0          0  \n",
       "1          0  \n",
       "2          0  \n",
       "3          1  \n",
       "4          0  "
      ]
     },
     "execution_count": 3,
     "metadata": {},
     "output_type": "execute_result"
    }
   ],
   "source": [
    "data.head()"
   ]
  },
  {
   "cell_type": "code",
   "execution_count": 4,
   "id": "6f00c342",
   "metadata": {
    "execution": {
     "iopub.execute_input": "2023-03-20T01:36:34.353959Z",
     "iopub.status.busy": "2023-03-20T01:36:34.353014Z",
     "iopub.status.idle": "2023-03-20T01:36:34.379773Z",
     "shell.execute_reply": "2023-03-20T01:36:34.378387Z"
    },
    "papermill": {
     "duration": 0.041541,
     "end_time": "2023-03-20T01:36:34.382977",
     "exception": false,
     "start_time": "2023-03-20T01:36:34.341436",
     "status": "completed"
    },
    "tags": []
   },
   "outputs": [
    {
     "name": "stdout",
     "output_type": "stream",
     "text": [
      "<class 'pandas.core.frame.DataFrame'>\n",
      "RangeIndex: 5171 entries, 0 to 5170\n",
      "Data columns (total 4 columns):\n",
      " #   Column      Non-Null Count  Dtype \n",
      "---  ------      --------------  ----- \n",
      " 0   Unnamed: 0  5171 non-null   int64 \n",
      " 1   label       5171 non-null   object\n",
      " 2   text        5171 non-null   object\n",
      " 3   label_num   5171 non-null   int64 \n",
      "dtypes: int64(2), object(2)\n",
      "memory usage: 161.7+ KB\n"
     ]
    }
   ],
   "source": [
    "data.info() "
   ]
  },
  {
   "cell_type": "code",
   "execution_count": 5,
   "id": "fa84287b",
   "metadata": {
    "execution": {
     "iopub.execute_input": "2023-03-20T01:36:34.404415Z",
     "iopub.status.busy": "2023-03-20T01:36:34.403386Z",
     "iopub.status.idle": "2023-03-20T01:36:34.414373Z",
     "shell.execute_reply": "2023-03-20T01:36:34.413461Z"
    },
    "papermill": {
     "duration": 0.024112,
     "end_time": "2023-03-20T01:36:34.416639",
     "exception": false,
     "start_time": "2023-03-20T01:36:34.392527",
     "status": "completed"
    },
    "tags": []
   },
   "outputs": [
    {
     "data": {
      "text/plain": [
       "Unnamed: 0    0\n",
       "label         0\n",
       "text          0\n",
       "label_num     0\n",
       "dtype: int64"
      ]
     },
     "execution_count": 5,
     "metadata": {},
     "output_type": "execute_result"
    }
   ],
   "source": [
    "#no NUll values are here.And other way to check is:\n",
    "data.isnull().sum()"
   ]
  },
  {
   "cell_type": "code",
   "execution_count": 6,
   "id": "087e8d23",
   "metadata": {
    "execution": {
     "iopub.execute_input": "2023-03-20T01:36:34.439333Z",
     "iopub.status.busy": "2023-03-20T01:36:34.438295Z",
     "iopub.status.idle": "2023-03-20T01:36:34.445940Z",
     "shell.execute_reply": "2023-03-20T01:36:34.444631Z"
    },
    "papermill": {
     "duration": 0.02216,
     "end_time": "2023-03-20T01:36:34.448485",
     "exception": false,
     "start_time": "2023-03-20T01:36:34.426325",
     "status": "completed"
    },
    "tags": []
   },
   "outputs": [
    {
     "data": {
      "text/plain": [
       "Index(['Unnamed: 0', 'label', 'text', 'label_num'], dtype='object')"
      ]
     },
     "execution_count": 6,
     "metadata": {},
     "output_type": "execute_result"
    }
   ],
   "source": [
    "data.columns"
   ]
  },
  {
   "cell_type": "code",
   "execution_count": 7,
   "id": "9264d4b1",
   "metadata": {
    "execution": {
     "iopub.execute_input": "2023-03-20T01:36:34.471572Z",
     "iopub.status.busy": "2023-03-20T01:36:34.471030Z",
     "iopub.status.idle": "2023-03-20T01:36:34.479463Z",
     "shell.execute_reply": "2023-03-20T01:36:34.478053Z"
    },
    "papermill": {
     "duration": 0.022641,
     "end_time": "2023-03-20T01:36:34.482145",
     "exception": false,
     "start_time": "2023-03-20T01:36:34.459504",
     "status": "completed"
    },
    "tags": []
   },
   "outputs": [
    {
     "data": {
      "text/plain": [
       "(5171, 4)"
      ]
     },
     "execution_count": 7,
     "metadata": {},
     "output_type": "execute_result"
    }
   ],
   "source": [
    "data.shape"
   ]
  },
  {
   "cell_type": "code",
   "execution_count": 8,
   "id": "caac6caa",
   "metadata": {
    "execution": {
     "iopub.execute_input": "2023-03-20T01:36:34.504557Z",
     "iopub.status.busy": "2023-03-20T01:36:34.504064Z",
     "iopub.status.idle": "2023-03-20T01:36:34.509248Z",
     "shell.execute_reply": "2023-03-20T01:36:34.507951Z"
    },
    "papermill": {
     "duration": 0.019567,
     "end_time": "2023-03-20T01:36:34.511908",
     "exception": false,
     "start_time": "2023-03-20T01:36:34.492341",
     "status": "completed"
    },
    "tags": []
   },
   "outputs": [],
   "source": [
    "#from the data there is no use of the (Column1,Column4):(Unnamed:0,label_num)"
   ]
  },
  {
   "cell_type": "code",
   "execution_count": 9,
   "id": "383f0d35",
   "metadata": {
    "execution": {
     "iopub.execute_input": "2023-03-20T01:36:34.534020Z",
     "iopub.status.busy": "2023-03-20T01:36:34.533551Z",
     "iopub.status.idle": "2023-03-20T01:36:34.540991Z",
     "shell.execute_reply": "2023-03-20T01:36:34.539594Z"
    },
    "papermill": {
     "duration": 0.02211,
     "end_time": "2023-03-20T01:36:34.543822",
     "exception": false,
     "start_time": "2023-03-20T01:36:34.521712",
     "status": "completed"
    },
    "tags": []
   },
   "outputs": [],
   "source": [
    "data = data.drop(['Unnamed: 0','label_num'],axis=1)"
   ]
  },
  {
   "cell_type": "code",
   "execution_count": 10,
   "id": "1fb0f644",
   "metadata": {
    "execution": {
     "iopub.execute_input": "2023-03-20T01:36:34.565895Z",
     "iopub.status.busy": "2023-03-20T01:36:34.565447Z",
     "iopub.status.idle": "2023-03-20T01:36:34.579641Z",
     "shell.execute_reply": "2023-03-20T01:36:34.578274Z"
    },
    "papermill": {
     "duration": 0.02887,
     "end_time": "2023-03-20T01:36:34.582697",
     "exception": false,
     "start_time": "2023-03-20T01:36:34.553827",
     "status": "completed"
    },
    "tags": []
   },
   "outputs": [
    {
     "data": {
      "text/html": [
       "<div>\n",
       "<style scoped>\n",
       "    .dataframe tbody tr th:only-of-type {\n",
       "        vertical-align: middle;\n",
       "    }\n",
       "\n",
       "    .dataframe tbody tr th {\n",
       "        vertical-align: top;\n",
       "    }\n",
       "\n",
       "    .dataframe thead th {\n",
       "        text-align: right;\n",
       "    }\n",
       "</style>\n",
       "<table border=\"1\" class=\"dataframe\">\n",
       "  <thead>\n",
       "    <tr style=\"text-align: right;\">\n",
       "      <th></th>\n",
       "      <th>label</th>\n",
       "      <th>text</th>\n",
       "    </tr>\n",
       "  </thead>\n",
       "  <tbody>\n",
       "    <tr>\n",
       "      <th>0</th>\n",
       "      <td>ham</td>\n",
       "      <td>Subject: enron methanol ; meter # : 988291\\r\\n...</td>\n",
       "    </tr>\n",
       "    <tr>\n",
       "      <th>1</th>\n",
       "      <td>ham</td>\n",
       "      <td>Subject: hpl nom for january 9 , 2001\\r\\n( see...</td>\n",
       "    </tr>\n",
       "    <tr>\n",
       "      <th>2</th>\n",
       "      <td>ham</td>\n",
       "      <td>Subject: neon retreat\\r\\nho ho ho , we ' re ar...</td>\n",
       "    </tr>\n",
       "    <tr>\n",
       "      <th>3</th>\n",
       "      <td>spam</td>\n",
       "      <td>Subject: photoshop , windows , office . cheap ...</td>\n",
       "    </tr>\n",
       "    <tr>\n",
       "      <th>4</th>\n",
       "      <td>ham</td>\n",
       "      <td>Subject: re : indian springs\\r\\nthis deal is t...</td>\n",
       "    </tr>\n",
       "    <tr>\n",
       "      <th>...</th>\n",
       "      <td>...</td>\n",
       "      <td>...</td>\n",
       "    </tr>\n",
       "    <tr>\n",
       "      <th>5166</th>\n",
       "      <td>ham</td>\n",
       "      <td>Subject: put the 10 on the ft\\r\\nthe transport...</td>\n",
       "    </tr>\n",
       "    <tr>\n",
       "      <th>5167</th>\n",
       "      <td>ham</td>\n",
       "      <td>Subject: 3 / 4 / 2000 and following noms\\r\\nhp...</td>\n",
       "    </tr>\n",
       "    <tr>\n",
       "      <th>5168</th>\n",
       "      <td>ham</td>\n",
       "      <td>Subject: calpine daily gas nomination\\r\\n&gt;\\r\\n...</td>\n",
       "    </tr>\n",
       "    <tr>\n",
       "      <th>5169</th>\n",
       "      <td>ham</td>\n",
       "      <td>Subject: industrial worksheets for august 2000...</td>\n",
       "    </tr>\n",
       "    <tr>\n",
       "      <th>5170</th>\n",
       "      <td>spam</td>\n",
       "      <td>Subject: important online banking alert\\r\\ndea...</td>\n",
       "    </tr>\n",
       "  </tbody>\n",
       "</table>\n",
       "<p>5171 rows × 2 columns</p>\n",
       "</div>"
      ],
      "text/plain": [
       "     label                                               text\n",
       "0      ham  Subject: enron methanol ; meter # : 988291\\r\\n...\n",
       "1      ham  Subject: hpl nom for january 9 , 2001\\r\\n( see...\n",
       "2      ham  Subject: neon retreat\\r\\nho ho ho , we ' re ar...\n",
       "3     spam  Subject: photoshop , windows , office . cheap ...\n",
       "4      ham  Subject: re : indian springs\\r\\nthis deal is t...\n",
       "...    ...                                                ...\n",
       "5166   ham  Subject: put the 10 on the ft\\r\\nthe transport...\n",
       "5167   ham  Subject: 3 / 4 / 2000 and following noms\\r\\nhp...\n",
       "5168   ham  Subject: calpine daily gas nomination\\r\\n>\\r\\n...\n",
       "5169   ham  Subject: industrial worksheets for august 2000...\n",
       "5170  spam  Subject: important online banking alert\\r\\ndea...\n",
       "\n",
       "[5171 rows x 2 columns]"
      ]
     },
     "execution_count": 10,
     "metadata": {},
     "output_type": "execute_result"
    }
   ],
   "source": [
    "data"
   ]
  },
  {
   "cell_type": "code",
   "execution_count": 11,
   "id": "aa7ae9c0",
   "metadata": {
    "execution": {
     "iopub.execute_input": "2023-03-20T01:36:34.605261Z",
     "iopub.status.busy": "2023-03-20T01:36:34.604804Z",
     "iopub.status.idle": "2023-03-20T01:36:34.613460Z",
     "shell.execute_reply": "2023-03-20T01:36:34.612309Z"
    },
    "papermill": {
     "duration": 0.023148,
     "end_time": "2023-03-20T01:36:34.615937",
     "exception": false,
     "start_time": "2023-03-20T01:36:34.592789",
     "status": "completed"
    },
    "tags": []
   },
   "outputs": [
    {
     "data": {
      "text/plain": [
       "array(['ham', 'spam'], dtype=object)"
      ]
     },
     "execution_count": 11,
     "metadata": {},
     "output_type": "execute_result"
    }
   ],
   "source": [
    "data['label'].unique()"
   ]
  },
  {
   "cell_type": "code",
   "execution_count": 12,
   "id": "72cb1ecf",
   "metadata": {
    "execution": {
     "iopub.execute_input": "2023-03-20T01:36:34.638441Z",
     "iopub.status.busy": "2023-03-20T01:36:34.637960Z",
     "iopub.status.idle": "2023-03-20T01:36:34.645931Z",
     "shell.execute_reply": "2023-03-20T01:36:34.644548Z"
    },
    "papermill": {
     "duration": 0.022469,
     "end_time": "2023-03-20T01:36:34.648532",
     "exception": false,
     "start_time": "2023-03-20T01:36:34.626063",
     "status": "completed"
    },
    "tags": []
   },
   "outputs": [
    {
     "data": {
      "text/plain": [
       "'So we have 2 types of class which are spam and ham so we can use logistic regression to classify\\nwhether emails are spam or not'"
      ]
     },
     "execution_count": 12,
     "metadata": {},
     "output_type": "execute_result"
    }
   ],
   "source": [
    "#ham indicates emails that are not spam\n",
    "#spam indicates emails that are spam \n",
    "'''So we have 2 types of class which are spam and ham so we can use logistic regression to classify\n",
    "whether emails are spam or not''' "
   ]
  },
  {
   "cell_type": "code",
   "execution_count": 13,
   "id": "17d28720",
   "metadata": {
    "execution": {
     "iopub.execute_input": "2023-03-20T01:36:34.671859Z",
     "iopub.status.busy": "2023-03-20T01:36:34.671400Z",
     "iopub.status.idle": "2023-03-20T01:36:34.679646Z",
     "shell.execute_reply": "2023-03-20T01:36:34.678273Z"
    },
    "papermill": {
     "duration": 0.023177,
     "end_time": "2023-03-20T01:36:34.682158",
     "exception": false,
     "start_time": "2023-03-20T01:36:34.658981",
     "status": "completed"
    },
    "tags": []
   },
   "outputs": [],
   "source": [
    "#labeling spam as 0 and ham as 1 for the logistic regression.\n",
    "data['label']=data['label'].map({'spam':0,'ham':1})"
   ]
  },
  {
   "cell_type": "code",
   "execution_count": 14,
   "id": "b1000cc2",
   "metadata": {
    "execution": {
     "iopub.execute_input": "2023-03-20T01:36:34.707586Z",
     "iopub.status.busy": "2023-03-20T01:36:34.707051Z",
     "iopub.status.idle": "2023-03-20T01:36:34.722913Z",
     "shell.execute_reply": "2023-03-20T01:36:34.721406Z"
    },
    "papermill": {
     "duration": 0.033109,
     "end_time": "2023-03-20T01:36:34.725633",
     "exception": false,
     "start_time": "2023-03-20T01:36:34.692524",
     "status": "completed"
    },
    "tags": []
   },
   "outputs": [
    {
     "data": {
      "text/html": [
       "<div>\n",
       "<style scoped>\n",
       "    .dataframe tbody tr th:only-of-type {\n",
       "        vertical-align: middle;\n",
       "    }\n",
       "\n",
       "    .dataframe tbody tr th {\n",
       "        vertical-align: top;\n",
       "    }\n",
       "\n",
       "    .dataframe thead th {\n",
       "        text-align: right;\n",
       "    }\n",
       "</style>\n",
       "<table border=\"1\" class=\"dataframe\">\n",
       "  <thead>\n",
       "    <tr style=\"text-align: right;\">\n",
       "      <th></th>\n",
       "      <th>label</th>\n",
       "      <th>text</th>\n",
       "    </tr>\n",
       "  </thead>\n",
       "  <tbody>\n",
       "    <tr>\n",
       "      <th>0</th>\n",
       "      <td>1</td>\n",
       "      <td>Subject: enron methanol ; meter # : 988291\\r\\n...</td>\n",
       "    </tr>\n",
       "    <tr>\n",
       "      <th>1</th>\n",
       "      <td>1</td>\n",
       "      <td>Subject: hpl nom for january 9 , 2001\\r\\n( see...</td>\n",
       "    </tr>\n",
       "    <tr>\n",
       "      <th>2</th>\n",
       "      <td>1</td>\n",
       "      <td>Subject: neon retreat\\r\\nho ho ho , we ' re ar...</td>\n",
       "    </tr>\n",
       "    <tr>\n",
       "      <th>3</th>\n",
       "      <td>0</td>\n",
       "      <td>Subject: photoshop , windows , office . cheap ...</td>\n",
       "    </tr>\n",
       "    <tr>\n",
       "      <th>4</th>\n",
       "      <td>1</td>\n",
       "      <td>Subject: re : indian springs\\r\\nthis deal is t...</td>\n",
       "    </tr>\n",
       "    <tr>\n",
       "      <th>...</th>\n",
       "      <td>...</td>\n",
       "      <td>...</td>\n",
       "    </tr>\n",
       "    <tr>\n",
       "      <th>5166</th>\n",
       "      <td>1</td>\n",
       "      <td>Subject: put the 10 on the ft\\r\\nthe transport...</td>\n",
       "    </tr>\n",
       "    <tr>\n",
       "      <th>5167</th>\n",
       "      <td>1</td>\n",
       "      <td>Subject: 3 / 4 / 2000 and following noms\\r\\nhp...</td>\n",
       "    </tr>\n",
       "    <tr>\n",
       "      <th>5168</th>\n",
       "      <td>1</td>\n",
       "      <td>Subject: calpine daily gas nomination\\r\\n&gt;\\r\\n...</td>\n",
       "    </tr>\n",
       "    <tr>\n",
       "      <th>5169</th>\n",
       "      <td>1</td>\n",
       "      <td>Subject: industrial worksheets for august 2000...</td>\n",
       "    </tr>\n",
       "    <tr>\n",
       "      <th>5170</th>\n",
       "      <td>0</td>\n",
       "      <td>Subject: important online banking alert\\r\\ndea...</td>\n",
       "    </tr>\n",
       "  </tbody>\n",
       "</table>\n",
       "<p>5171 rows × 2 columns</p>\n",
       "</div>"
      ],
      "text/plain": [
       "      label                                               text\n",
       "0         1  Subject: enron methanol ; meter # : 988291\\r\\n...\n",
       "1         1  Subject: hpl nom for january 9 , 2001\\r\\n( see...\n",
       "2         1  Subject: neon retreat\\r\\nho ho ho , we ' re ar...\n",
       "3         0  Subject: photoshop , windows , office . cheap ...\n",
       "4         1  Subject: re : indian springs\\r\\nthis deal is t...\n",
       "...     ...                                                ...\n",
       "5166      1  Subject: put the 10 on the ft\\r\\nthe transport...\n",
       "5167      1  Subject: 3 / 4 / 2000 and following noms\\r\\nhp...\n",
       "5168      1  Subject: calpine daily gas nomination\\r\\n>\\r\\n...\n",
       "5169      1  Subject: industrial worksheets for august 2000...\n",
       "5170      0  Subject: important online banking alert\\r\\ndea...\n",
       "\n",
       "[5171 rows x 2 columns]"
      ]
     },
     "execution_count": 14,
     "metadata": {},
     "output_type": "execute_result"
    }
   ],
   "source": [
    "data"
   ]
  },
  {
   "cell_type": "code",
   "execution_count": 15,
   "id": "0406124a",
   "metadata": {
    "execution": {
     "iopub.execute_input": "2023-03-20T01:36:34.749283Z",
     "iopub.status.busy": "2023-03-20T01:36:34.748731Z",
     "iopub.status.idle": "2023-03-20T01:36:34.755558Z",
     "shell.execute_reply": "2023-03-20T01:36:34.754065Z"
    },
    "papermill": {
     "duration": 0.021814,
     "end_time": "2023-03-20T01:36:34.758295",
     "exception": false,
     "start_time": "2023-03-20T01:36:34.736481",
     "status": "completed"
    },
    "tags": []
   },
   "outputs": [],
   "source": [
    "x = data['label']"
   ]
  },
  {
   "cell_type": "code",
   "execution_count": 16,
   "id": "378dba8f",
   "metadata": {
    "execution": {
     "iopub.execute_input": "2023-03-20T01:36:34.782465Z",
     "iopub.status.busy": "2023-03-20T01:36:34.781920Z",
     "iopub.status.idle": "2023-03-20T01:36:34.792468Z",
     "shell.execute_reply": "2023-03-20T01:36:34.791113Z"
    },
    "papermill": {
     "duration": 0.025709,
     "end_time": "2023-03-20T01:36:34.795197",
     "exception": false,
     "start_time": "2023-03-20T01:36:34.769488",
     "status": "completed"
    },
    "tags": []
   },
   "outputs": [
    {
     "data": {
      "text/plain": [
       "0       1\n",
       "1       1\n",
       "2       1\n",
       "3       0\n",
       "4       1\n",
       "       ..\n",
       "5166    1\n",
       "5167    1\n",
       "5168    1\n",
       "5169    1\n",
       "5170    0\n",
       "Name: label, Length: 5171, dtype: int64"
      ]
     },
     "execution_count": 16,
     "metadata": {},
     "output_type": "execute_result"
    }
   ],
   "source": [
    "x"
   ]
  },
  {
   "cell_type": "code",
   "execution_count": 17,
   "id": "050a585d",
   "metadata": {
    "execution": {
     "iopub.execute_input": "2023-03-20T01:36:34.819739Z",
     "iopub.status.busy": "2023-03-20T01:36:34.818748Z",
     "iopub.status.idle": "2023-03-20T01:36:34.825495Z",
     "shell.execute_reply": "2023-03-20T01:36:34.824168Z"
    },
    "papermill": {
     "duration": 0.022224,
     "end_time": "2023-03-20T01:36:34.828368",
     "exception": false,
     "start_time": "2023-03-20T01:36:34.806144",
     "status": "completed"
    },
    "tags": []
   },
   "outputs": [],
   "source": [
    "y = data['text']"
   ]
  },
  {
   "cell_type": "code",
   "execution_count": 18,
   "id": "76809d8f",
   "metadata": {
    "execution": {
     "iopub.execute_input": "2023-03-20T01:36:34.853045Z",
     "iopub.status.busy": "2023-03-20T01:36:34.852550Z",
     "iopub.status.idle": "2023-03-20T01:36:34.862292Z",
     "shell.execute_reply": "2023-03-20T01:36:34.860887Z"
    },
    "papermill": {
     "duration": 0.025317,
     "end_time": "2023-03-20T01:36:34.864934",
     "exception": false,
     "start_time": "2023-03-20T01:36:34.839617",
     "status": "completed"
    },
    "tags": []
   },
   "outputs": [
    {
     "data": {
      "text/plain": [
       "0       Subject: enron methanol ; meter # : 988291\\r\\n...\n",
       "1       Subject: hpl nom for january 9 , 2001\\r\\n( see...\n",
       "2       Subject: neon retreat\\r\\nho ho ho , we ' re ar...\n",
       "3       Subject: photoshop , windows , office . cheap ...\n",
       "4       Subject: re : indian springs\\r\\nthis deal is t...\n",
       "                              ...                        \n",
       "5166    Subject: put the 10 on the ft\\r\\nthe transport...\n",
       "5167    Subject: 3 / 4 / 2000 and following noms\\r\\nhp...\n",
       "5168    Subject: calpine daily gas nomination\\r\\n>\\r\\n...\n",
       "5169    Subject: industrial worksheets for august 2000...\n",
       "5170    Subject: important online banking alert\\r\\ndea...\n",
       "Name: text, Length: 5171, dtype: object"
      ]
     },
     "execution_count": 18,
     "metadata": {},
     "output_type": "execute_result"
    }
   ],
   "source": [
    "y"
   ]
  },
  {
   "cell_type": "code",
   "execution_count": 19,
   "id": "bfd31f6d",
   "metadata": {
    "execution": {
     "iopub.execute_input": "2023-03-20T01:36:34.889282Z",
     "iopub.status.busy": "2023-03-20T01:36:34.888097Z",
     "iopub.status.idle": "2023-03-20T01:36:34.897814Z",
     "shell.execute_reply": "2023-03-20T01:36:34.896544Z"
    },
    "papermill": {
     "duration": 0.025015,
     "end_time": "2023-03-20T01:36:34.900833",
     "exception": false,
     "start_time": "2023-03-20T01:36:34.875818",
     "status": "completed"
    },
    "tags": []
   },
   "outputs": [],
   "source": [
    "x_train,x_test,y_train,y_test = train_test_split(x,y,test_size=0.2,random_state=0)"
   ]
  },
  {
   "cell_type": "code",
   "execution_count": 20,
   "id": "d61a8642",
   "metadata": {
    "execution": {
     "iopub.execute_input": "2023-03-20T01:36:34.925656Z",
     "iopub.status.busy": "2023-03-20T01:36:34.924486Z",
     "iopub.status.idle": "2023-03-20T01:36:34.931394Z",
     "shell.execute_reply": "2023-03-20T01:36:34.930037Z"
    },
    "papermill": {
     "duration": 0.02228,
     "end_time": "2023-03-20T01:36:34.934122",
     "exception": false,
     "start_time": "2023-03-20T01:36:34.911842",
     "status": "completed"
    },
    "tags": []
   },
   "outputs": [],
   "source": [
    "x_train = x_train.astype('int')\n",
    "x_test = x_test.astype('int')"
   ]
  },
  {
   "cell_type": "code",
   "execution_count": 21,
   "id": "9e23b280",
   "metadata": {
    "execution": {
     "iopub.execute_input": "2023-03-20T01:36:34.957545Z",
     "iopub.status.busy": "2023-03-20T01:36:34.957018Z",
     "iopub.status.idle": "2023-03-20T01:36:34.963792Z",
     "shell.execute_reply": "2023-03-20T01:36:34.962544Z"
    },
    "papermill": {
     "duration": 0.021833,
     "end_time": "2023-03-20T01:36:34.966651",
     "exception": false,
     "start_time": "2023-03-20T01:36:34.944818",
     "status": "completed"
    },
    "tags": []
   },
   "outputs": [
    {
     "name": "stdout",
     "output_type": "stream",
     "text": [
      "(5171,)\n",
      "(4136,)\n",
      "(1035,)\n"
     ]
    }
   ],
   "source": [
    "print(x.shape)\n",
    "print(x_train.shape)\n",
    "print(x_test.shape)"
   ]
  },
  {
   "cell_type": "markdown",
   "id": "188ceccf",
   "metadata": {
    "papermill": {
     "duration": 0.010285,
     "end_time": "2023-03-20T01:36:34.987895",
     "exception": false,
     "start_time": "2023-03-20T01:36:34.977610",
     "status": "completed"
    },
    "tags": []
   },
   "source": [
    "**Feature Extraction**"
   ]
  },
  {
   "cell_type": "code",
   "execution_count": 22,
   "id": "5d1c01cf",
   "metadata": {
    "execution": {
     "iopub.execute_input": "2023-03-20T01:36:35.012292Z",
     "iopub.status.busy": "2023-03-20T01:36:35.011734Z",
     "iopub.status.idle": "2023-03-20T01:36:35.018305Z",
     "shell.execute_reply": "2023-03-20T01:36:35.016933Z"
    },
    "papermill": {
     "duration": 0.022401,
     "end_time": "2023-03-20T01:36:35.021188",
     "exception": false,
     "start_time": "2023-03-20T01:36:34.998787",
     "status": "completed"
    },
    "tags": []
   },
   "outputs": [],
   "source": [
    "feature_extraction = TfidfVectorizer(min_df=1,stop_words='english',lowercase='True')\n",
    "#min_df is tell the model that what is the minimum frequency for a word to consider.\n",
    "#stop_words is a inbuilt function which is used to tell the model to remove the basic words like the,as,a etc.\n",
    "#lowercase is used to lowercase all letters in the mail."
   ]
  },
  {
   "cell_type": "code",
   "execution_count": 23,
   "id": "f53f4505",
   "metadata": {
    "execution": {
     "iopub.execute_input": "2023-03-20T01:36:35.048131Z",
     "iopub.status.busy": "2023-03-20T01:36:35.047587Z",
     "iopub.status.idle": "2023-03-20T01:36:35.919862Z",
     "shell.execute_reply": "2023-03-20T01:36:35.918344Z"
    },
    "papermill": {
     "duration": 0.890862,
     "end_time": "2023-03-20T01:36:35.923252",
     "exception": false,
     "start_time": "2023-03-20T01:36:35.032390",
     "status": "completed"
    },
    "tags": []
   },
   "outputs": [],
   "source": [
    "y_train_feat = feature_extraction.fit_transform(y_train)\n",
    "y_test_feat = feature_extraction.transform(y_test)"
   ]
  },
  {
   "cell_type": "code",
   "execution_count": 24,
   "id": "e5af2380",
   "metadata": {
    "execution": {
     "iopub.execute_input": "2023-03-20T01:36:35.947938Z",
     "iopub.status.busy": "2023-03-20T01:36:35.947005Z",
     "iopub.status.idle": "2023-03-20T01:36:35.957846Z",
     "shell.execute_reply": "2023-03-20T01:36:35.956461Z"
    },
    "papermill": {
     "duration": 0.026724,
     "end_time": "2023-03-20T01:36:35.961017",
     "exception": false,
     "start_time": "2023-03-20T01:36:35.934293",
     "status": "completed"
    },
    "tags": []
   },
   "outputs": [
    {
     "name": "stdout",
     "output_type": "stream",
     "text": [
      "  (0, 39122)\t0.1489707406646257\n",
      "  (0, 21876)\t0.15452467049357102\n",
      "  (0, 39295)\t0.18296953062812027\n",
      "  (0, 28331)\t0.100413186925558\n",
      "  (0, 16641)\t0.1637097662727073\n",
      "  (0, 25343)\t0.1327903166471815\n",
      "  (0, 24291)\t0.086819999802958\n",
      "  (0, 25011)\t0.09352929013170533\n",
      "  (0, 35741)\t0.1797981565768853\n",
      "  (0, 38670)\t0.12368485263465394\n",
      "  (0, 12407)\t0.11614143442868556\n",
      "  (0, 64)\t0.2320330901784706\n",
      "  (0, 72)\t0.11287588933297091\n",
      "  (0, 2003)\t0.22022236239236187\n",
      "  (0, 56)\t0.19294689361509368\n",
      "  (0, 28212)\t0.13465733801362062\n",
      "  (0, 26193)\t0.13355578907978374\n",
      "  (0, 17814)\t0.15230033297810594\n",
      "  (0, 27541)\t0.15176632211845267\n",
      "  (0, 12467)\t0.19120758987148667\n",
      "  (0, 35035)\t0.2927898419075641\n",
      "  (0, 4132)\t0.5855796838151281\n",
      "  (0, 26894)\t0.29612657680252463\n",
      "  (0, 37566)\t0.03390898877474294\n",
      "  (1, 2308)\t0.12427819881705193\n",
      "  :\t:\n",
      "  (4135, 36363)\t0.10387970460445373\n",
      "  (4135, 37874)\t0.1099845935208329\n",
      "  (4135, 2822)\t0.12063179979974499\n",
      "  (4135, 38317)\t0.10810759560254152\n",
      "  (4135, 40607)\t0.10560544386588379\n",
      "  (4135, 40291)\t0.11299201077228706\n",
      "  (4135, 15900)\t0.488967789194047\n",
      "  (4135, 21484)\t0.2124142371045675\n",
      "  (4135, 413)\t0.07519809344202233\n",
      "  (4135, 31166)\t0.1326730537355078\n",
      "  (4135, 12628)\t0.14524639101918718\n",
      "  (4135, 18641)\t0.06946028839048392\n",
      "  (4135, 29991)\t0.14450797727496295\n",
      "  (4135, 18061)\t0.08153315477412791\n",
      "  (4135, 6766)\t0.06921382012790604\n",
      "  (4135, 13624)\t0.10038182580759486\n",
      "  (4135, 10333)\t0.060679153815343334\n",
      "  (4135, 26746)\t0.10136850781611118\n",
      "  (4135, 28620)\t0.10149460916503103\n",
      "  (4135, 89)\t0.0822876361497879\n",
      "  (4135, 38674)\t0.058028581787208704\n",
      "  (4135, 1005)\t0.11167175749411277\n",
      "  (4135, 16616)\t0.17085405597392975\n",
      "  (4135, 39122)\t0.3315653328811712\n",
      "  (4135, 37566)\t0.05031433287101096\n"
     ]
    }
   ],
   "source": [
    "print(y_train_feat) #Text is successfully converted into the numerical form."
   ]
  },
  {
   "cell_type": "markdown",
   "id": "60dca5e5",
   "metadata": {
    "papermill": {
     "duration": 0.010947,
     "end_time": "2023-03-20T01:36:35.984065",
     "exception": false,
     "start_time": "2023-03-20T01:36:35.973118",
     "status": "completed"
    },
    "tags": []
   },
   "source": [
    "**Logistic Regression Model.\n",
    "Training the Model.**"
   ]
  },
  {
   "cell_type": "code",
   "execution_count": 25,
   "id": "a4bc6998",
   "metadata": {
    "execution": {
     "iopub.execute_input": "2023-03-20T01:36:36.009950Z",
     "iopub.status.busy": "2023-03-20T01:36:36.008850Z",
     "iopub.status.idle": "2023-03-20T01:36:36.015026Z",
     "shell.execute_reply": "2023-03-20T01:36:36.013936Z"
    },
    "papermill": {
     "duration": 0.022198,
     "end_time": "2023-03-20T01:36:36.017852",
     "exception": false,
     "start_time": "2023-03-20T01:36:35.995654",
     "status": "completed"
    },
    "tags": []
   },
   "outputs": [],
   "source": [
    "model = LogisticRegression()\n"
   ]
  },
  {
   "cell_type": "code",
   "execution_count": 26,
   "id": "67818e25",
   "metadata": {
    "execution": {
     "iopub.execute_input": "2023-03-20T01:36:36.043756Z",
     "iopub.status.busy": "2023-03-20T01:36:36.042925Z",
     "iopub.status.idle": "2023-03-20T01:36:36.450893Z",
     "shell.execute_reply": "2023-03-20T01:36:36.449446Z"
    },
    "papermill": {
     "duration": 0.425519,
     "end_time": "2023-03-20T01:36:36.455410",
     "exception": false,
     "start_time": "2023-03-20T01:36:36.029891",
     "status": "completed"
    },
    "tags": []
   },
   "outputs": [
    {
     "data": {
      "text/plain": [
       "LogisticRegression()"
      ]
     },
     "execution_count": 26,
     "metadata": {},
     "output_type": "execute_result"
    }
   ],
   "source": [
    "model.fit(y_train_feat,x_train)"
   ]
  },
  {
   "cell_type": "markdown",
   "id": "2e965ebe",
   "metadata": {
    "papermill": {
     "duration": 0.027562,
     "end_time": "2023-03-20T01:36:36.511721",
     "exception": false,
     "start_time": "2023-03-20T01:36:36.484159",
     "status": "completed"
    },
    "tags": []
   },
   "source": [
    "**Checking the Accuracy of the Model**"
   ]
  },
  {
   "cell_type": "code",
   "execution_count": 27,
   "id": "1c844db4",
   "metadata": {
    "execution": {
     "iopub.execute_input": "2023-03-20T01:36:36.558832Z",
     "iopub.status.busy": "2023-03-20T01:36:36.558332Z",
     "iopub.status.idle": "2023-03-20T01:36:36.565009Z",
     "shell.execute_reply": "2023-03-20T01:36:36.564039Z"
    },
    "papermill": {
     "duration": 0.027209,
     "end_time": "2023-03-20T01:36:36.567384",
     "exception": false,
     "start_time": "2023-03-20T01:36:36.540175",
     "status": "completed"
    },
    "tags": []
   },
   "outputs": [],
   "source": [
    "prediction_on_train_data = model.predict(y_train_feat)"
   ]
  },
  {
   "cell_type": "code",
   "execution_count": 28,
   "id": "2c8a1a85",
   "metadata": {
    "execution": {
     "iopub.execute_input": "2023-03-20T01:36:36.592297Z",
     "iopub.status.busy": "2023-03-20T01:36:36.591417Z",
     "iopub.status.idle": "2023-03-20T01:36:36.598605Z",
     "shell.execute_reply": "2023-03-20T01:36:36.597422Z"
    },
    "papermill": {
     "duration": 0.02317,
     "end_time": "2023-03-20T01:36:36.601718",
     "exception": false,
     "start_time": "2023-03-20T01:36:36.578548",
     "status": "completed"
    },
    "tags": []
   },
   "outputs": [
    {
     "name": "stdout",
     "output_type": "stream",
     "text": [
      "0.9961315280464217\n"
     ]
    }
   ],
   "source": [
    "accuracy_on_train_data = accuracy_score(x_train,prediction_on_train_data)\n",
    "print(accuracy_on_train_data)"
   ]
  },
  {
   "cell_type": "code",
   "execution_count": 29,
   "id": "3e98585c",
   "metadata": {
    "execution": {
     "iopub.execute_input": "2023-03-20T01:36:36.627433Z",
     "iopub.status.busy": "2023-03-20T01:36:36.626554Z",
     "iopub.status.idle": "2023-03-20T01:36:36.634462Z",
     "shell.execute_reply": "2023-03-20T01:36:36.632891Z"
    },
    "papermill": {
     "duration": 0.024912,
     "end_time": "2023-03-20T01:36:36.638426",
     "exception": false,
     "start_time": "2023-03-20T01:36:36.613514",
     "status": "completed"
    },
    "tags": []
   },
   "outputs": [
    {
     "name": "stdout",
     "output_type": "stream",
     "text": [
      "0.9884057971014493\n"
     ]
    }
   ],
   "source": [
    "prediction_on_test_data = model.predict(y_test_feat)\n",
    "accuracy_on_test_data = accuracy_score(x_test,prediction_on_test_data)\n",
    "print(accuracy_on_test_data)"
   ]
  },
  {
   "cell_type": "markdown",
   "id": "90d07509",
   "metadata": {
    "papermill": {
     "duration": 0.010519,
     "end_time": "2023-03-20T01:36:36.661075",
     "exception": false,
     "start_time": "2023-03-20T01:36:36.650556",
     "status": "completed"
    },
    "tags": []
   },
   "source": [
    "**Predicting the mail**"
   ]
  },
  {
   "cell_type": "markdown",
   "id": "126b78e0",
   "metadata": {
    "papermill": {
     "duration": 0.010533,
     "end_time": "2023-03-20T01:36:36.682645",
     "exception": false,
     "start_time": "2023-03-20T01:36:36.672112",
     "status": "completed"
    },
    "tags": []
   },
   "source": [
    "Here the input mail is taken form the dataset."
   ]
  },
  {
   "cell_type": "code",
   "execution_count": 30,
   "id": "beabe196",
   "metadata": {
    "execution": {
     "iopub.execute_input": "2023-03-20T01:36:36.707404Z",
     "iopub.status.busy": "2023-03-20T01:36:36.706482Z",
     "iopub.status.idle": "2023-03-20T01:36:36.717041Z",
     "shell.execute_reply": "2023-03-20T01:36:36.715569Z"
    },
    "papermill": {
     "duration": 0.026461,
     "end_time": "2023-03-20T01:36:36.720206",
     "exception": false,
     "start_time": "2023-03-20T01:36:36.693745",
     "status": "completed"
    },
    "tags": []
   },
   "outputs": [
    {
     "name": "stdout",
     "output_type": "stream",
     "text": [
      "[1]\n",
      "Ham mail\n"
     ]
    }
   ],
   "source": [
    "input_mail = [\"Subject: re : epgtgloria , the difference between the two pipes for july 2000 is the actuals came in lower than what was nominated and scheduled on mops . there isn ' t anything we can do about that difference , hopefully there is some kind of oba that takes those variances .sabrafrom : barkowsky , gloria g .sent : friday , june 22 , 2001 4 : 50 pmto : garcia , clarissa ; farmer , daren j . ; dinari , sabra l subject : epgtclarissa - thanks so much for all your help with this pipe ! everything looks great . i just have a couple of pathsthat i need to finish it :january 2000 - i need deal # 854688 pathed for epgt and for tetc . according to the invoice , we should have11 , 129 dth on the interconnect .february 2000 - i need deal # 871184 pathed for hpl and chan . hpl should have 3 , 600 dth and chan shouldhave 11 , 500 dth on the interconnect .july 2000 - deal # 871172 has an interconnect issue . according to mops contract # 105124 , they received 8 , 275 dthon the matagorda 624 , but according to epgt , they delivered 10 , 362 dth to hpl ( ? ) could this possiblyneed to be split somehow , or do you have any other ideas ?let me know . thanks , gloria 3 - 7118\"]\n",
    "input_mail1 = [\"The Exam fee is 200\"] #user defined one\n",
    "predict = feature_extraction.transform(input_mail1)\n",
    "final_prediction = model.predict(predict)\n",
    "print(final_prediction)\n",
    "if final_prediction[0]== 1:\n",
    "    print('Ham mail')\n",
    "else:\n",
    "    print('Spam mail')   "
   ]
  },
  {
   "cell_type": "code",
   "execution_count": null,
   "id": "364adca3",
   "metadata": {
    "papermill": {
     "duration": 0.010905,
     "end_time": "2023-03-20T01:36:36.742969",
     "exception": false,
     "start_time": "2023-03-20T01:36:36.732064",
     "status": "completed"
    },
    "tags": []
   },
   "outputs": [],
   "source": []
  },
  {
   "cell_type": "code",
   "execution_count": null,
   "id": "752264f2",
   "metadata": {
    "papermill": {
     "duration": 0.010509,
     "end_time": "2023-03-20T01:36:36.764981",
     "exception": false,
     "start_time": "2023-03-20T01:36:36.754472",
     "status": "completed"
    },
    "tags": []
   },
   "outputs": [],
   "source": []
  },
  {
   "cell_type": "code",
   "execution_count": null,
   "id": "a6ebaf21",
   "metadata": {
    "papermill": {
     "duration": 0.010927,
     "end_time": "2023-03-20T01:36:36.786903",
     "exception": false,
     "start_time": "2023-03-20T01:36:36.775976",
     "status": "completed"
    },
    "tags": []
   },
   "outputs": [],
   "source": []
  }
 ],
 "metadata": {
  "kernelspec": {
   "display_name": "Python 3",
   "language": "python",
   "name": "python3"
  },
  "language_info": {
   "codemirror_mode": {
    "name": "ipython",
    "version": 3
   },
   "file_extension": ".py",
   "mimetype": "text/x-python",
   "name": "python",
   "nbconvert_exporter": "python",
   "pygments_lexer": "ipython3",
   "version": "3.7.12"
  },
  "papermill": {
   "default_parameters": {},
   "duration": 15.43855,
   "end_time": "2023-03-20T01:36:37.724130",
   "environment_variables": {},
   "exception": null,
   "input_path": "__notebook__.ipynb",
   "output_path": "__notebook__.ipynb",
   "parameters": {},
   "start_time": "2023-03-20T01:36:22.285580",
   "version": "2.4.0"
  }
 },
 "nbformat": 4,
 "nbformat_minor": 5
}
